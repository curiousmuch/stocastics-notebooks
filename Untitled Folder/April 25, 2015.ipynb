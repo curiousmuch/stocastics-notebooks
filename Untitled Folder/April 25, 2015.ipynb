{
 "cells": [
  {
   "cell_type": "markdown",
   "metadata": {},
   "source": [
    "$$p_1(x, \\mu, \\sigma) = \\frac{1}{2\\pi\\sqrt{\\sigma}} e^{(-x-\\mu^2)/\\sigma^2} $$ \n",
    "\n",
    "$$ p_1(x) = \\sum_{i=1}^{P} c_i N(\\mu_i, \\sigma_i) $$\n",
    "\n",
    "Gaussian Mixture Model (GMM) )\n",
    "\n",
    "$$ p_1(x) = \\sum_{i=1}^{P} c_i N(\\bar{\\mu_i}, C_i) $$\n",
    "\n"
   ]
  }
 ],
 "metadata": {
  "kernelspec": {
   "display_name": "Python 2",
   "language": "python",
   "name": "python2"
  },
  "language_info": {
   "codemirror_mode": {
    "name": "ipython",
    "version": 2
   },
   "file_extension": ".py",
   "mimetype": "text/x-python",
   "name": "python",
   "nbconvert_exporter": "python",
   "pygments_lexer": "ipython2",
   "version": "2.7.9"
  }
 },
 "nbformat": 4,
 "nbformat_minor": 0
}
