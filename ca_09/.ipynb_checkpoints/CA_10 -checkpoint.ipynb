{
 "cells": [
  {
   "cell_type": "markdown",
   "metadata": {},
   "source": [
    "#Computer Assignment (CA) No. 10: Hypothesis Testing\n",
    "This assignment is designed to introduce you to hypothesis testing. You will essentially build a computer simulation of Example 9.9 in the textbook:\n",
    "####Example 9.9:\n",
    "The mean lifetime E[X] of the light bulbs produced by Lighting Systems Corporation is 1570 hours with a standard deviation of 120 hours. The president of the company claims that a new production process has led to an increase in the mean lifetimes of the light bulbs. If Joe tested 100 light bulbs made from the new production process and found that their mean lifetime is 1600 hours, test the hypothesis that E[X] is not equal to 1570 hours.\n",
    "####The tasks to be accomplished are:\n",
    "1. Create a function that generates n Gaussian distributed random variables:\n",
    "*X = gen_grv(mean, stdev, n)*\n",
    "2. Compute the mean of X, .\n",
    "3. Create a function that tests whether the difference between the true mean and the estimated mean are statistically significant: *status = check_significance(mean1, mean2, stdev, n, confidence)*\n",
    "4. Create a function that determines the value of N for the difference between two means to be statistically significant:\n",
    "*N = determine_significance(mean1, mean2, stdev, confidence)*\n",
    "\n"
   ]
  },
  {
   "cell_type": "code",
   "execution_count": 4,
   "metadata": {
    "collapsed": false
   },
   "outputs": [
    {
     "name": "stdout",
     "output_type": "stream",
     "text": [
      "Populating the interactive namespace from numpy and matplotlib\n"
     ]
    }
   ],
   "source": [
    "%pylab inline\n",
    "from scipy.stats import norm"
   ]
  },
  {
   "cell_type": "code",
   "execution_count": 5,
   "metadata": {
    "collapsed": false
   },
   "outputs": [
    {
     "data": {
      "text/plain": [
       "[<matplotlib.lines.Line2D at 0x7fa2d62cb450>]"
      ]
     },
     "execution_count": 5,
     "metadata": {},
     "output_type": "execute_result"
    },
    {
     "data": {
      "image/png": "[encoded data removed]",
      "text/plain": [
       "<matplotlib.figure.Figure at 0x7fa2d63e52d0>"
      ]
     },
     "metadata": {},
     "output_type": "display_data"
    }
   ],
   "source": [
    "def gen_grv(mean, stdev, n):\n",
    "    '''\n",
    "        Generates n Gaussian random variables \n",
    "    '''\n",
    "    X = random.normal(mean, stdev, n) \n",
    "    return X \n",
    "\n",
    "# TESTING \n",
    "x = gen_grv(0, 1, 100000) \n",
    "h = histogram(x, bins=100)\n",
    "plot(h[1][1:], h[0]) "
   ]
  },
  {
   "cell_type": "code",
   "execution_count": 14,
   "metadata": {
    "collapsed": false
   },
   "outputs": [
    {
     "name": "stdout",
     "output_type": "stream",
     "text": [
      "False\n",
      "True\n"
     ]
    }
   ],
   "source": [
    "def check_significance(mean1, mean2, stdev, n, confidence): \n",
    "    '''\n",
    "        Preforms hypothesis test\n",
    "        mean1 = the mean under test\n",
    "        returns true when h_0 is accepted\n",
    "                false when h_0 is rejected\n",
    "    '''\n",
    "    # normalize tested mean .... or z-score? \n",
    "    u_t = (mean1 - mean2)/(stdev/sqrt(n))\n",
    "    \n",
    "    # calculated x values of normal distribution which form the limits of a confidence interval \n",
    "    a = 1-confidence\n",
    "    z = norm.ppf(1 - a/2) \n",
    "    return not ((u_t >= -z) and (u_t <= z))\n",
    "\n",
    "## Testing \n",
    "mean1 = 1600\n",
    "mean2 = 1570\n",
    "stdev = 120\n",
    "n = 100\n",
    "confidence = [0.99, 0.95] \n",
    "for c in confidence:\n",
    "    print check_significance(mean1, mean2, stdev, n, c)     "
   ]
  },
  {
   "cell_type": "code",
   "execution_count": 16,
   "metadata": {
    "collapsed": false
   },
   "outputs": [
    {
     "name": "stdout",
     "output_type": "stream",
     "text": [
      "107.0 False\n",
      "62.0 True\n"
     ]
    }
   ],
   "source": [
    "def determine_significance(mean1, mean2, stdev, confidence): \n",
    "    ''' \n",
    "        Description: Calculated the minimum value of n which would fit mean1 with the confidence interval for \n",
    "        normal distribution of mean2 and stdev\n",
    "    '''\n",
    "    # find the normalized confidence limits\n",
    "    a = 1 - confidence\n",
    "    z_u = norm.ppf(1 - a/2) # inverse normal distribution \n",
    "    z_l = -z_u\n",
    "    n = (z_u*stdev/(mean2 - mean1))**2\n",
    "    return ceil(n) \n",
    "\n",
    "# TESTING \n",
    "mean1 = 1600 \n",
    "mean2 = 1570 \n",
    "stdev = 120 \n",
    "n = 100 \n",
    "confidence = [0.99, 0.95]\n",
    "for c in confidence: \n",
    "    new_n = determine_significance(mean1, mean2, stdev, c)\n",
    "    print new_n, check_significance(mean1, mean2, stdev, n, c)  \n",
    "    \n",
    "    \n",
    "    "
   ]
  },
  {
   "cell_type": "markdown",
   "metadata": {},
   "source": [
    "####Now, put this all together by doing the following:\n",
    "1. Generate n random numbers with a mean of 1600 hours and a stdev of 120 hours for n = 10, 100, 1000.\n",
    "2. Using your tools above, determine if the difference in the mean is significant for confidence levels of 0.8, 0.9, 0.95, 0.99, 0.999.\n",
    "3. Determine the minimum value of n for which these differences would be statistically significant.\n",
    "4. Repeat no. 2 for a standard deviation of 240 hours.\n",
    "5. Find the maximum value of the variance for which the difference in the mean is significant for [n = 10, 100, 1000] and [confidence = 0.8, 0.9, 0.95, 0.99, 0.999]."
   ]
  },
  {
   "cell_type": "code",
   "execution_count": null,
   "metadata": {
    "collapsed": true
   },
   "outputs": [],
   "source": [
    "# CONSTANTS\n",
    "u = 1600 \n",
    "sigma = [120, 240]\n",
    "N = [10, 100, 1000]\n",
    "\n",
    "\n",
    "# GENERATE RVs \n",
    "x1 = gen_grv(u, sigma[0], N[0]) \n",
    "x2 = gen_grv(u, sigma[0], N[1]) \n",
    "x2 = gen_grv(u, sigma[0], N[2]) \n",
    "    \n",
    "C = [0.8, 0.9, 0.95, 0.99, 0.999] \n",
    "for c in C: \n",
    "    required_samples = determine_significance(\n"
   ]
  }
 ],
 "metadata": {
  "kernelspec": {
   "display_name": "Python 2",
   "language": "python",
   "name": "python2"
  },
  "language_info": {
   "codemirror_mode": {
    "name": "ipython",
    "version": 2
   },
   "file_extension": ".py",
   "mimetype": "text/x-python",
   "name": "python",
   "nbconvert_exporter": "python",
   "pygments_lexer": "ipython2",
   "version": "2.7.9"
  }
 },
 "nbformat": 4,
 "nbformat_minor": 0
}
