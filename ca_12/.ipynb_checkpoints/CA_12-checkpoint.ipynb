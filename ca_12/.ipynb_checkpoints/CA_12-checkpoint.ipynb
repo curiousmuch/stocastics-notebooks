{
 "cells": [
  {
   "cell_type": "markdown",
   "metadata": {},
   "source": [
    "#Computer Assignment (CA) No. 12: Principal Components Analysis\n",
    "\n",
    "## Problem Statement \n",
    "For this assignment, we will use one of the data sets available in MATLAB known as the “Cities data set.” Instructions for how to load this data set can be found here: http://www.mathworks.com/help/stats/feature-transformation.html. We will focus on processing the matrix “ratings”. The vector “categories” tells you what each column of the matrix represents.\n",
    "\n",
    "1. Compute the covariance matrix for the raw data (contained in the data matrix “ratings”).\n",
    "2. Do an eigenvalue/eigenvector analysis of the covariance matrix, and display both these matrices. Discuss what you observe.\n",
    "3. Compute the whitening transform we discussed in class, and compute a matrix of transformed data.\n",
    "4. Demonstrate that the covariance of the transformed data is an identity matrix by computing the covariance of the transformed data matrix.\n",
    "5. Plot the percent of the variance accounted for by the first n eigenvalues for n = [1,9]. Make sure the eigenvalues are sorted from largest to smallest.\n",
    "6. Analyze the eigenvector corresponding to the two largest eigenvalues, and describe what variables in the ratings matrix (e.g., “climate”) are most influential in explaining the variance of the data. Hint: look for eigenvector coefficients that have the largest positive or negative values.\n",
    "7. Using the original data, find the three most similar cities using the following algorithm:\n",
    "\n",
    ">Find the two cities that are the closest together using a Euclidean distance between their ratings.\n",
    "\n",
    "> Find the third city that is the closest to the average of the ratings vectors for (1).\n",
    "\n",
    "Does your result make sense?\n",
    "8. Repeat (7) using the decorrelated, or transformed data. Did your ranking of the top three cities change? Does your new ranking make more sense? Explain your findings.\n",
    "9. Repeat (8) using only the first 3 features from the transformed feature matrix (the first three columns in the transformed feature matrix). Explain any differences you observe from the result in (7) and (8).\n",
    "Principal Components Analysis is a very useful tool for understanding correlation in data and understanding how various random variables are related.\n",
    "\n",
    "## Approach and Results\n",
    "The required python libraries are first loaded. The cities.mat dataset was saved to an acessible location and loaded into python via scipy's io library."
   ]
  },
  {
   "cell_type": "code",
   "execution_count": 67,
   "metadata": {
    "collapsed": false
   },
   "outputs": [
    {
     "name": "stdout",
     "output_type": "stream",
     "text": [
      "[u'climate       ' u'housing       ' u'health        ' u'crime         '\n",
      " u'transportation' u'education     ' u'arts          ' u'recreation    '\n",
      " u'economics     ']\n",
      "(329, 9)\n"
     ]
    }
   ],
   "source": [
    "%matplotlib inline \n",
    "import matplotlib.pyplot as plt \n",
    "import numpy as np \n",
    "from scipy.io import loadmat\n",
    "import statsmodels.api as sm \n",
    "\n",
    "cities = loadmat('cities.mat')\n",
    "a = cities['ratings']\n",
    "print cities['categories']\n",
    "print a.shape"
   ]
  },
  {
   "cell_type": "markdown",
   "metadata": {},
   "source": [
    "### Tasks 1 & 2 \n",
    "\n",
    "$ X = \\left[ \\begin{array}{ccc} \n",
    "            X_1 \\\\ \n",
    "            \\vdots \\\\\n",
    "            X_n\n",
    "       \\end{array} \\right]$ \n",
    "       \n",
    "The covariance matrix is equal to \n",
    "\n",
    "$$ \\sigma_{i, j} = cov(X_i, X_j) = E[(X_i-\\mu_11)(X_j - \\mu_j)] = E[(X-E[X])(X-E[X])^T] $$"
   ]
  },
  {
   "cell_type": "markdown",
   "metadata": {},
   "source": [
    "### Tasks 1 & 2 \n",
    "\n",
    "$ X = \\left[ \\begin{array}{ccc} \n",
    "            X_1 \\\\ \n",
    "            \\vdots \\\\\n",
    "            X_n\n",
    "       \\end{array} \\right]$ \n",
    "       \n",
    "The covariance matrix is equal to \n",
    "\n",
    "$$ \\sigma_{i, j} = cov(X_i, X_j) = E[(X_i-\\mu_11)(X_j - \\mu_j)] = E[(X-E[X])(X-E[X])^T] $$"
   ]
  },
  {
   "cell_type": "code",
   "execution_count": 102,
   "metadata": {
    "collapsed": false
   },
   "outputs": [
    {
     "name": "stdout",
     "output_type": "stream",
     "text": [
      "[  2.4414e+07   4.4080e+06   1.6380e+06   1.0764e+06   4.7834e+05\n",
      "   1.0963e+04   9.2810e+04   6.6996e+04   2.4085e+05]\n"
     ]
    }
   ],
   "source": [
    "cov_a = np.cov(a, rowvar=0)\n",
    "eigen_values, eigen_vectors = np.linalg.eig(cov_a)\n",
    "np.set_printoptions(precision=4)\n",
    "print eigen_values"
   ]
  },
  {
   "cell_type": "markdown",
   "metadata": {},
   "source": [
    "## Task 3 \n",
    "Compute the whitening transformation\n",
    "\n",
    "$$ \\bar{z} = \\Delta^{-1/2}\\phi\\bar{x}$$"
   ]
  },
  {
   "cell_type": "code",
   "execution_count": 107,
   "metadata": {
    "collapsed": false
   },
   "outputs": [
    {
     "name": "stdout",
     "output_type": "stream",
     "text": [
      "(329, 9)\n",
      "(9, 9)\n"
     ]
    },
    {
     "data": {
      "text/plain": [
       "array([[  0.1054,   0.1164,   0.0947, ...,   0.1093,   0.1154,   0.1231],\n",
       "       [  2.953 ,   3.8761,   3.4956, ...,   3.9871,   3.3441,   3.7508],\n",
       "       [  0.1852,   1.2939,   0.4829, ...,   0.5571,   0.8571,   0.1656],\n",
       "       ..., \n",
       "       [  3.2694,  18.2637,   0.7779, ...,   3.3547,   9.1811,   0.4005],\n",
       "       [  5.4282,  10.1686,   3.3187, ...,   3.253 ,   5.1268,   3.5467],\n",
       "       [ 15.5532,   8.8637,  10.6976, ...,  10.0781,   7.9345,   9.5646]])"
      ]
     },
     "execution_count": 107,
     "metadata": {},
     "output_type": "execute_result"
    }
   ],
   "source": [
    "delta = np.eye(eigen_values.shape[0])*eigen_values\n",
    "print a.shape\n",
    "print np.sqrt(np.linalg.inv(delta)).shape\n",
    "np.dot(np.sqrt(np.linalg.inv(delta)), a.T)"
   ]
  }
 ],
 "metadata": {
  "kernelspec": {
   "display_name": "Python 2",
   "language": "python",
   "name": "python2"
  },
  "language_info": {
   "codemirror_mode": {
    "name": "ipython",
    "version": 2
   },
   "file_extension": ".py",
   "mimetype": "text/x-python",
   "name": "python",
   "nbconvert_exporter": "python",
   "pygments_lexer": "ipython2",
   "version": "2.7.9"
  }
 },
 "nbformat": 4,
 "nbformat_minor": 0
}
