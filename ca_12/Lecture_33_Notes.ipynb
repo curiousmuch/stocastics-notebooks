{
 "cells": [
  {
   "cell_type": "markdown",
   "metadata": {},
   "source": [
    "# Lecture 33 Notes \n",
    "\n",
    "## Distance Measurements \n",
    "\n",
    "#### Minikowski Metric of Order $s$ or the $l_s$ Metric\n",
    " \n",
    "$$ d_s(x, y) = \\sqrt[s]{\\sum_{k=1}^N | x_k - y_k|^s} = ||\\bar{x} - \\bar{y}||_s $$\n",
    "\n",
    "1. ####$l_1$ City Block Metric \n",
    "    $$ ... $$\n",
    " \n",
    "2. ####$l_2$  Euclidean Metric \n",
    "\n",
    "$$d_2(\\bar{x}, \\bar{y}) = \\sqrt{\\sum_{k=1}^{N} |x_k - y_k|^2}$$\n",
    "\n",
    "3. ####$l_\\infty$  Chebyshev Metric\n",
    "    $$ ... $$\n",
    "    \n",
    "Suppose we are given a set of $M$ reference vectors, $\\bar{x}_m$, a measurement, $\\bar{y}$, and we want to find the nearest neighbor: \n",
    "\n",
    "$$ NN = \\min_m d_2(\\bar{x}_m, \\bar{y}) $$\n",
    "\n",
    "> Basically, Dr. Picone is looking for the closed $x_m$ vector to that of the measurement $y$ based on the MSE between the two vectors which would be the Euclidean distance. \n",
    "\n",
    "$$ d_2(\\bar{x}_m, \\bar{y})^2 = \\sum_{j = 1}^{k} (x_{j} - y_j)^2 =  \\sum_{j = 1}^{k} x_j^2 - 2x_jy_j + y_j^2 = ||\\bar{x}_m||^2 - 2\\bar{x}_m \\cdot \\bar{y} + ||\\bar{y}||^2 = C_m + C_y - 2\\bar{x}_m \\cdot \\bar{y}$$ \n",
    "\n",
    "$$ NN = \\min_m d_2(\\bar{x}_m, \\bar{y}) = C_m - 2\\bar{x}_m \\cdot \\bar{y} $$\n",
    "\n",
    "> 1st Question: What is $C_M$ \n",
    "Covariacnce is defined as \n",
    "$$ C_{XX}(t, s)  = cov(X_t, X_s) = E[(X_t - \\mu_t)(X_s - \\mu_s)] = E[X_tX_s] - \\mu_t\\mu_s $$\n"
   ]
  }
 ],
 "metadata": {
  "kernelspec": {
   "display_name": "Python 2",
   "language": "python",
   "name": "python2"
  },
  "language_info": {
   "codemirror_mode": {
    "name": "ipython",
    "version": 2
   },
   "file_extension": ".py",
   "mimetype": "text/x-python",
   "name": "python",
   "nbconvert_exporter": "python",
   "pygments_lexer": "ipython2",
   "version": "2.7.9"
  }
 },
 "nbformat": 4,
 "nbformat_minor": 0
}
