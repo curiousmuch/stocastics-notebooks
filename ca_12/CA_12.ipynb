{
 "cells": [
  {
   "cell_type": "markdown",
   "metadata": {},
   "source": [
    "#Computer Assignment (CA) No. 12: Principal Components Analysis\n",
    "\n",
    "## Problem Statement \n",
    "For this assignment, we will use one of the data sets available in MATLAB known as the “Cities data set.” Instructions for how to load this data set can be found here: http://www.mathworks.com/help/stats/feature-transformation.html. We will focus on processing the matrix “ratings”. The vector “categories” tells you what each column of the matrix represents.\n",
    "\n",
    "1. Compute the covariance matrix for the raw data (contained in the data matrix “ratings”).\n",
    "2. Do an eigenvalue/eigenvector analysis of the covariance matrix, and display both these matrices. Discuss what you observe.\n",
    "3. Compute the whitening transform we discussed in class, and compute a matrix of transformed data.\n",
    "4. Demonstrate that the covariance of the transformed data is an identity matrix by computing the covariance of the transformed data matrix.\n",
    "5. Plot the percent of the variance accounted for by the first n eigenvalues for n = [1,9]. Make sure the eigenvalues are sorted from largest to smallest.\n",
    "6. Analyze the eigenvector corresponding to the two largest eigenvalues, and describe what variables in the ratings matrix (e.g., “climate”) are most influential in explaining the variance of the data. Hint: look for eigenvector coefficients that have the largest positive or negative values.\n",
    "7. Using the original data, find the three most similar cities using the following algorithm:\n",
    "\n",
    ">Find the two cities that are the closest together using a Euclidean distance between their ratings.\n",
    "\n",
    "> Find the third city that is the closest to the average of the ratings vectors for (1).\n",
    "\n",
    "Does your result make sense?\n",
    "8. Repeat (7) using the decorrelated, or transformed data. Did your ranking of the top three cities change? Does your new ranking make more sense? Explain your findings.\n",
    "9. Repeat (8) using only the first 3 features from the transformed feature matrix (the first three columns in the transformed feature matrix). Explain any differences you observe from the result in (7) and (8).\n",
    "Principal Components Analysis is a very useful tool for understanding correlation in data and understanding how various random variables are related.\n",
    "\n",
    "## Approach and Results\n",
    "The required python libraries are first loaded. The cities.mat dataset was saved to an acessible location and loaded into python via scipy's io library."
   ]
  },
  {
   "cell_type": "code",
   "execution_count": 6,
   "metadata": {
    "collapsed": false
   },
   "outputs": [
    {
     "name": "stdout",
     "output_type": "stream",
     "text": [
      "[u'climate       ' u'housing       ' u'health        ' u'crime         '\n",
      " u'transportation' u'education     ' u'arts          ' u'recreation    '\n",
      " u'economics     ']\n",
      "(329, 9)\n"
     ]
    }
   ],
   "source": [
    "%matplotlib inline \n",
    "import matplotlib.pyplot as plt \n",
    "import numpy as np \n",
    "from scipy.io import loadmat\n",
    "\n",
    "cities = loadmat('cities.mat')\n",
    "a = cities['ratings']\n",
    "print cities['categories']\n",
    "print a.shape"
   ]
  },
  {
   "cell_type": "markdown",
   "metadata": {},
   "source": [
    "### Tasks 1 & 2 \n",
    "\n",
    "$ X = \\left[ \\begin{array}{ccc} \n",
    "            X_1 \\\\ \n",
    "            \\vdots \\\\\n",
    "            X_n\n",
    "       \\end{array} \\right]$ \n",
    "       \n",
    "The covariance matrix is equal to \n",
    "\n",
    "$$ \\sigma_{i, j} = cov(X_i, X_j) = E[(X_i-\\mu_11)(X_j - \\mu_j)] = E[(X-E[X])(X-E[X])^T] $$\n",
    "\n",
    "Compute the eigenvalues and right eigenvectors of a square array.\n",
    "Parameters\n",
    "----------\n",
    "a : (..., M, M) array\n",
    ">Matrices for which the eigenvalues and right eigenvectors will\n",
    "be computed\n",
    "\n",
    "Returns\n",
    "-------\n",
    "w : (..., M) array\n",
    ">The eigenvalues, each repeated according to its multiplicity.\n",
    "The eigenvalues are not necessarily ordered. The resulting\n",
    "array will be always be of complex type. When `a` is real\n",
    "the resulting eigenvalues will be real (0 imaginary part) or\n",
    "occur in conjugate pairs\n",
    "\n",
    "v : (..., M, M) array\n",
    ">The normalized (unit \"length\") eigenvectors, such that the\n",
    ">column ``v[:,i]`` is the eigenvector corresponding to the\n",
    ">eigenvalue ``w[i]``.\n"
   ]
  },
  {
   "cell_type": "code",
   "execution_count": 66,
   "metadata": {
    "collapsed": false
   },
   "outputs": [
    {
     "name": "stdout",
     "output_type": "stream",
     "text": [
      "[[ 7111754.19444444  4423830.5         6048096.41666667 ...,\n",
      "   6168293.45833333  4409078.19444444  6033722.375     ]\n",
      " [ 4423830.5         6132584.75        4357107.875      ...,  5167630.125\n",
      "   4615377.25        4610387.        ]\n",
      " [ 6048096.41666667  4357107.875       6062468.         ...,  6453982.5\n",
      "   4529283.79166667  6233986.875     ]\n",
      " ..., \n",
      " [ 6168293.45833333  5167630.125       6453982.5        ...,  7107146.\n",
      "   5125567.58333333  6672879.25      ]\n",
      " [ 4409078.19444444  4615377.25        4529283.79166667 ...,\n",
      "   5125567.58333333  4086310.44444444  4737195.375     ]\n",
      " [ 6033722.375       4610387.          6233986.875      ...,  6672879.25\n",
      "   4737195.375       6521358.75      ]]\n"
     ]
    }
   ],
   "source": [
    "M = np.cov(a)\n",
    "print cov_a\n",
    "eigen_values, eigen_vectors = np.linalg.eig(cov_a)\n"
   ]
  },
  {
   "cell_type": "markdown",
   "metadata": {},
   "source": [
    "## Task 3 \n",
    "Compute the whitening transformation\n",
    "...\"multiply by $M^{-1/2}$ $M = cov(X)$\n",
    "$$ M^{-1/2} = (M^{-1})^{1/2} $$"
   ]
  },
  {
   "cell_type": "code",
   "execution_count": 81,
   "metadata": {
    "collapsed": false
   },
   "outputs": [
    {
     "data": {
      "text/plain": [
       "array([[  1.36425589e+04 +4.37590343e-15j,\n",
       "          1.43108978e+05 +7.55534080e+01j,\n",
       "          2.86716758e+04 +6.25915220e+00j,\n",
       "          7.18005555e+03 +4.08128820e+00j,\n",
       "          1.99440174e+04 +3.55051397e+01j,\n",
       "          3.50418171e+03 +2.20016918e+01j,\n",
       "          1.51994701e+05 +2.52773364e+01j,\n",
       "          2.36308859e+04 +1.26430530e+01j,\n",
       "         -8.84136577e+03 +4.82257287e+01j],\n",
       "       [  1.43108978e+05 -7.55534080e+01j,\n",
       "          6.73475843e+06 -2.77284970e-15j,\n",
       "          1.29072967e+06 -6.92973168e+01j,\n",
       "          1.51858821e+05 -7.14728086e+01j,\n",
       "          1.15397571e+06 -4.00459200e+01j,\n",
       "          2.17119399e+05 -5.35546507e+01j,\n",
       "          5.87963652e+06 -5.02894862e+01j,\n",
       "          9.76705941e+05 -6.29104443e+01j,\n",
       "          8.80102148e+05 -2.73380349e+01j],\n",
       "       [  2.86716758e+04 -6.25915220e+00j,\n",
       "          1.29072967e+06 +6.92973168e+01j,\n",
       "          1.16944968e+06 +2.14895852e-14j,\n",
       "          1.26582991e+05 -2.17781581e+00j,\n",
       "          8.06525906e+05 +2.92472167e+01j,\n",
       "          1.86069322e+05 +1.57429625e+01j,\n",
       "          4.73264055e+06 +1.90179230e+01j,\n",
       "          3.09596844e+05 +6.38427402e+00j,\n",
       "          9.74553228e+04 +4.19671621e+01j],\n",
       "       [  7.18005555e+03 -4.08128820e+00j,\n",
       "          1.51858821e+05 +7.14728086e+01j,\n",
       "          1.26582991e+05 +2.17781581e+00j,\n",
       "          1.42539386e+05 -1.90633417e-15j,\n",
       "          1.76801786e+05 +3.14243248e+01j,\n",
       "          1.11094656e+04 +1.79203908e+01j,\n",
       "          7.59764301e+05 +2.11958935e+01j,\n",
       "          1.14431484e+05 +8.56191562e+00j,\n",
       "          1.22778384e+05 +4.41441344e+01j],\n",
       "       [  1.99440174e+04 -3.55051397e+01j,\n",
       "          1.15397571e+06 +4.00459200e+01j,\n",
       "          8.06525906e+05 -2.92472167e+01j,\n",
       "          1.76801786e+05 -3.14243248e+01j,\n",
       "          2.45092583e+06 -6.10026934e-14j,\n",
       "          1.93537354e+05 -1.35057276e+01j,\n",
       "          3.69047654e+06 -1.02328135e+01j,\n",
       "          5.05447863e+05 -2.28624247e+01j,\n",
       "          1.32963094e+05 +1.27133296e+01j],\n",
       "       [  3.50418171e+03 -2.20016918e+01j,\n",
       "          2.17119399e+05 +5.35546507e+01j,\n",
       "          1.86069322e+05 -1.57429625e+01j,\n",
       "          1.11094656e+04 -1.79203908e+01j,\n",
       "          1.93537354e+05 +1.35057276e+01j,\n",
       "          1.21679878e+05 +1.35176423e-14j,\n",
       "          6.65296102e+05 +3.27398679e+00j,\n",
       "          2.88379878e+04 -9.35809883e+00j,\n",
       "          6.46998806e+04 +2.62229418e+01j],\n",
       "       [  1.51994701e+05 -2.52773364e+01j,\n",
       "          5.87963652e+06 +5.02894862e+01j,\n",
       "          4.73264055e+06 -1.90179230e+01j,\n",
       "          7.59764301e+05 -2.11958935e+01j,\n",
       "          3.69047654e+06 +1.02328135e+01j,\n",
       "          6.65296102e+05 -3.27398679e+00j,\n",
       "          2.52875782e+07 -2.68966421e-13j,\n",
       "          1.67163919e+06 -1.26329332e+01j,\n",
       "          4.70400503e+05 +2.29500706e+01j],\n",
       "       [  2.36308859e+04 -1.26430530e+01j,\n",
       "          9.76705941e+05 +6.29104443e+01j,\n",
       "          3.09596844e+05 -6.38427402e+00j,\n",
       "          1.14431484e+05 -8.56191562e+00j,\n",
       "          5.05447863e+05 +2.28624247e+01j,\n",
       "          2.88379878e+04 +9.35809883e+00j,\n",
       "          1.67163919e+06 +1.26329332e+01j,\n",
       "          7.50504758e+05 -2.98081343e-14j,\n",
       "          1.89107977e+05 +3.55806929e+01j],\n",
       "       [ -8.84136577e+03 -4.82257287e+01j,\n",
       "          8.80102148e+05 +2.73380349e+01j,\n",
       "          9.74553228e+04 -4.19671621e+01j,\n",
       "          1.22778384e+05 -4.41441344e+01j,\n",
       "          1.32963094e+05 -1.27133296e+01j,\n",
       "          6.46998806e+04 -2.62229418e+01j,\n",
       "          4.70400503e+05 -2.29500706e+01j,\n",
       "          1.89107977e+05 -3.55806929e+01j,\n",
       "          1.38477447e+06 -2.77284970e-14j]])"
      ]
     },
     "execution_count": 81,
     "metadata": {},
     "output_type": "execute_result"
    }
   ],
   "source": [
    "import scipy\n",
    "M=np.linalg.inv(scipy.linalg.sqrtm(M))\n",
    "W = a.T.dot(M)\n"
   ]
  }
 ],
 "metadata": {
  "kernelspec": {
   "display_name": "Python 2",
   "language": "python",
   "name": "python2"
  },
  "language_info": {
   "codemirror_mode": {
    "name": "ipython",
    "version": 2
   },
   "file_extension": ".py",
   "mimetype": "text/x-python",
   "name": "python",
   "nbconvert_exporter": "python",
   "pygments_lexer": "ipython2",
   "version": "2.7.9"
  }
 },
 "nbformat": 4,
 "nbformat_minor": 0
}
