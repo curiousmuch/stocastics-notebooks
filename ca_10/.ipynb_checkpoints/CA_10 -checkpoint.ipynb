{
 "cells": [
  {
   "cell_type": "markdown",
   "metadata": {},
   "source": [
    "#Computer Assignment (CA) No. 10: Hypothesis Testing\n",
    "\n",
    "## Problem Statement\n",
    "This assignment is designed to introduce you to hypothesis testing. You will essentially build a computer simulation of Example 9.9 in the textbook:\n",
    "####Example 9.9:\n",
    "The mean lifetime E[X] of the light bulbs produced by Lighting Systems Corporation is 1570 hours with a standard deviation of 120 hours. The president of the company claims that a new production process has led to an increase in the mean lifetimes of the light bulbs. If Joe tested 100 light bulbs made from the new production process and found that their mean lifetime is 1600 hours, test the hypothesis that E[X] is not equal to 1570 hours.\n",
    "####The tasks to be accomplished are:\n",
    "1. Create a function that generates n Gaussian distributed random variables:\n",
    "*X = gen_grv(mean, stdev, n)*\n",
    "2. Compute the mean of X, .\n",
    "3. Create a function that tests whether the difference between the true mean and the estimated mean are statistically significant: *status = check_significance(mean1, mean2, stdev, n, confidence)*\n",
    "4. Create a function that determines the value of N for the difference between two means to be statistically significant:\n",
    "*N = determine_significance(mean1, mean2, stdev, confidence)*\n",
    "\n",
    "####Now, put this all together by doing the following:\n",
    "1. Generate n random numbers with a mean of 1600 hours and a stdev of 120 hours for n = 10, 100, 1000.\n",
    "2. Using your tools above, determine if the difference in the mean is significant for confidence levels of 0.8, 0.9, 0.95, 0.99, 0.999.\n",
    "3. Determine the minimum value of n for which these differences would be statistically significant.\n",
    "4. Repeat no. 2 for a standard deviation of 240 hours.\n",
    "5. Find the maximum value of the variance for which the difference in the mean is significant for [n = 10, 100, 1000] and [confidence = 0.8, 0.9, 0.95, 0.99, 0.999].\n",
    "\n"
   ]
  },
  {
   "cell_type": "markdown",
   "metadata": {},
   "source": [
    "## Approach and Results \n",
    "\n",
    "###  A Quick Examination of Hypothesis Testing \n",
    "#### Z-Score \n",
    "The $Z$ score, otherwise known as the standard score, is the \"number of standard deviations an observation or datum is above the mean.\" Thus, it can be defined as \n",
    "\n",
    "$$ z = \\frac{x-\\mu}{\\sigma} $$ \n",
    "where: $\\mu$ is the mean of the population, $x$ is a sample, and $\\sigma$ is the standard deviation of the population. \n",
    "\n",
    "This can also be applied to a random variable $X$ or a sample mean $\\bar{X}$, such that \n",
    "$ \\bar{X} = \\frac{1}{n}\\sum_{i=1}^n X_i $. The $Z$ score of the sample mean is equal to \n",
    "\n",
    "$$ Z = \\frac{\\bar{X} - E[X]}{\\sigma_X/\\sqrt{n}}.$$ \n",
    "\n",
    "where $n$ is the number of samples in $\\bar{X}$, $E[X]$ is the mean of the distribution of $X$, which we will denote as $\\mu_X$, and the standard deviation of the sample mean is $\\sigma_{\\bar{X}} = \\sigma_X/\\sqrt{n}$. \n",
    "\n",
    "#### Confidence Limiits \n",
    "<img src=\"limits.png\">\n",
    "\n",
    "If $\\Phi()$ represents the CDF of the normal distribution and we are attempting to locate the confidence limits displayed in the graph (taken from the class text) for a two tail test!\n",
    "\n",
    "$$ P(-z_\\alpha \\le Z \\le z_\\alpha) = 1 - \\alpha $$\n",
    "\n",
    "Substitutin' the expression for $Z$ above for a sample mean, \n",
    "\n",
    "$$ \\Phi(z_\\alpha) = P(Z \\le z) = 1 - \\alpha/2 $$\n",
    "\n",
    "$$ z_\\alpha = \\Phi^{-1}(\\Phi(z)) = \\Phi^{-1}(1-\\alpha/2)$$\n",
    "\n",
    "$$ P(\\bar{X}-z_\\alpha\\frac{\\sigma}{\\sqrt{n}} \\le \\mu_x  \\le \\bar{X}+z_\\alpha\\frac{\\sigma}{\\sqrt{n}}) = 1- \\alpha. $$\n",
    "\n",
    "Thus, the endpoints of the confidence interval are $= \\bar{X} \\pm \\Phi^{-1}(1-\\alpha/2)\\frac{\\sigma_X}{\\sqrt{n}}$\n",
    "\n",
    "#### Process of Hypothesis Testing \n",
    "1. Determine $H_0$ and $H_1$ \n",
    "2. Specify $\\alpha$, the level of siginficance, which is the probability the sample means are different enough to reject $H_0$. \n",
    "3. Calculate the test value $z$, or the standard score of the test value based on the collected data. \n",
    "4. Find the confidence limits, or $z_\\alpha$, given $\\alpha$ \n",
    "5. Reject or fail to reject $H_0$ \n",
    "\n",
    "Thus, the rejection region is the region that lies outside the confidence interval; the confidence interval is the failure to reject region. $H_0$ is failed to reject if $z$ lies in the failure to reject region and it is rejected if $z$ lies in the rejection region.\n",
    "\n",
    "There are two method to determine if $H_0$ is rejected or failed to reject. For the first method, the random variable under test is normalized and if it is within $\\pm z_\\alpha$, $H_0$ is accepted. For the second method, the confidence limits are found by \"de-normalizing\" $\\pm z_\\alpha$ and determining if the distribution's mean $\\mu_X$ is within the interval. \n",
    "\n",
    "\n",
    "### Functions: gen_grv, check_significance, and determine_significance\n",
    "\n",
    "#### gen_grv()"
   ]
  },
  {
   "cell_type": "code",
   "execution_count": 2,
   "metadata": {
    "collapsed": false
   },
   "outputs": [
    {
     "name": "stdout",
     "output_type": "stream",
     "text": [
      "Populating the interactive namespace from numpy and matplotlib\n"
     ]
    }
   ],
   "source": [
    "%pylab inline\n",
    "from scipy.stats import norm"
   ]
  },
  {
   "cell_type": "code",
   "execution_count": 3,
   "metadata": {
    "collapsed": false
   },
   "outputs": [
    {
     "data": {
      "text/plain": [
       "[<matplotlib.lines.Line2D at 0x7f7684c8b290>]"
      ]
     },
     "execution_count": 3,
     "metadata": {},
     "output_type": "execute_result"
    },
    {
     "data": {
      "image/png": "[encoded data removed]",
      "text/plain": [
       "<matplotlib.figure.Figure at 0x7f7684e241d0>"
      ]
     },
     "metadata": {},
     "output_type": "display_data"
    }
   ],
   "source": [
    "def gen_grv(mean, stdev, n):\n",
    "    '''\n",
    "        Generates n Gaussian random variables \n",
    "    '''\n",
    "    X = random.normal(mean, stdev, n) \n",
    "    return X \n",
    "\n",
    "# TESTING \n",
    "x = gen_grv(25, 1, 100000) \n",
    "h = histogram(x, bins=100)\n",
    "plot(h[1][1:], h[0]) "
   ]
  },
  {
   "cell_type": "markdown",
   "metadata": {},
   "source": [
    "Generating a vector $X$ consising of 100,000 random variables which are normally distributed with a mean of 25 and a $\\sigma$ of 1 produces the figure above, which appears consistent with a normal distribution. \n",
    "\n",
    "#### check_significance\n",
    "\n",
    "The function utilizes the first method described above. The function returns true if $H_0$ is failed to reject and false if $H_0$ is rejected. The function is tested with the example provided in the problem statement. "
   ]
  },
  {
   "cell_type": "code",
   "execution_count": 4,
   "metadata": {
    "collapsed": false
   },
   "outputs": [
    {
     "name": "stdout",
     "output_type": "stream",
     "text": [
      "0.99 True\n",
      "0.95 False\n"
     ]
    }
   ],
   "source": [
    "def check_significance(mean1, mean2, stdev, n, confidence): \n",
    "    '''\n",
    "        Preforms hypothesis test\n",
    "        mean1 = the mean under test\n",
    "        returns true when h_0 is accepted\n",
    "                false when h_0 is rejected\n",
    "    '''\n",
    "    # normalize tested mean .... or z-score? \n",
    "    Z = (mean1 - mean2)/(stdev/sqrt(n))\n",
    "    \n",
    "    # calculated x values of normal distribution which form the limits of a confidence interval \n",
    "    a = 1.-confidence\n",
    "    z = norm.ppf(1 - a/2) \n",
    "    return  ((Z >= -z) and (Z <= z))\n",
    "\n",
    "## Testing \n",
    "mean1 = 1600\n",
    "mean2 = 1570\n",
    "stdev = 120\n",
    "n = 100\n",
    "confidence = [0.99, 0.95] \n",
    "for c in confidence:\n",
    "    print c, check_significance(mean1, mean2, stdev, n, c)     "
   ]
  },
  {
   "cell_type": "markdown",
   "metadata": {},
   "source": [
    "For the $0.99\\%$ confidence rating, or a significance level $0.01$, the hypothesis $H_0: \\mu_x = \\mu_x$ is confirmed. For the $0.095\\%$ confidence rating or a significance level $0.05$, the hypothesis $\n",
    "H_0$ is rejected and $H_1$ stating the mean is significantly different is failed to reject.  \n",
    "\n",
    "#### determine_significance\n",
    "If the expression for a confidence interval is decomposed into a system of equations such that \n",
    "\n",
    "$$ \\mu_x \\ge \\bar{X} - z_\\alpha\\frac{\\sigma_X}{\\sqrt{n}} $$\n",
    "\n",
    "$$ \\mu_x \\le \\bar{X} + z_\\alpha\\frac{\\sigma_X}{\\sqrt{n}}, $$\n",
    "\n",
    "and the equations are individually solved for $n$, they both return the same answer, \n",
    "\n",
    "$$ n \\le \\left( \\frac{z_\\alpha\\sigma_X}{\\mu_X  -\\bar{X}} \\right)^2 .$$\n",
    "\n",
    "If $n$ is not an integer, it will have to be rounded. The value of $n$ derived from the equation above will denote the maximum number of samples the test value will still satisfy in the current confidence level. As the requirements for the function requested value of $n$, which concludes that the difference between the two means are significantly different, $n$ is rounded up, as can be seen in the function below.\n"
   ]
  },
  {
   "cell_type": "code",
   "execution_count": 5,
   "metadata": {
    "collapsed": false
   },
   "outputs": [
    {
     "name": "stdout",
     "output_type": "stream",
     "text": [
      "Confidence, New N, Sig Check, Old N, Sig Check\n",
      "0.99 107.0 True 100 True\n",
      "Confidence, New N, Sig Check, Old N, Sig Check\n",
      "0.95 62.0 True 100 False\n"
     ]
    }
   ],
   "source": [
    "def determine_significance(mean1, mean2, stdev, confidence): \n",
    "    ''' \n",
    "        Description: Calculated the minimum value of n which would fit mean1 within  the confidence interval for \n",
    "        normal distribution of mean2 and stdev\n",
    "    '''\n",
    "    # find the normalized confidence limits\n",
    "    a = 1 - confidence\n",
    "    z_u = norm.ppf(1. - a/2) # inverse normal distribution \n",
    "    z_l = -z_u\n",
    "    n = (z_u*stdev/(mean2 - mean1))**2\n",
    "    return ceil(n) \n",
    "\n",
    "# TESTING \n",
    "mean1 = 1600 \n",
    "mean2 = 1570 \n",
    "stdev = 120 \n",
    "n = 100 \n",
    "confidence = [0.99, 0.95]\n",
    "for c in confidence: \n",
    "    new_n = determine_significance(mean1, mean2, stdev, c)\n",
    "    print \"Confidence, New N, Sig Check, Old N, Sig Check\"\n",
    "    # Change new_n below\n",
    "    print c, new_n, check_significance(mean1, mean2, stdev, new_n-1, c), n, \\\n",
    "    check_significance(mean1, mean2, stdev, n, c)\n",
    "    \n",
    "    \n",
    "    "
   ]
  },
  {
   "cell_type": "markdown",
   "metadata": {},
   "source": [
    "The function is tested on the example in the problem statement again. If new_n is decremented after the commented line above, you can see the significance test will accept $H_0$."
   ]
  },
  {
   "cell_type": "markdown",
   "metadata": {},
   "source": [
    "### Tasks 1 to 4\n",
    "1. Generate n random numbers with a mean of 1600 hours and a stdev of 120 hours for n = 10, 100, 1000.\n",
    "2. Using your tools above, determine if the difference in the mean is significant for confidence levels of 0.8, 0.9, 0.95, 0.99, 0.999.\n",
    "3. Determine the minimum value of n for which these differences would be statistically significant.\n",
    "4. Repeat no. 2 for a standard deviation of 240 hours.\n",
    "5. Find the maximum value of the variance for which the difference in the mean is significant for [n = 10, 100, 1000] and [confidence = 0.8, 0.9, 0.95, 0.99, 0.999].\n",
    "\n",
    "\n"
   ]
  },
  {
   "cell_type": "code",
   "execution_count": 6,
   "metadata": {
    "collapsed": false,
    "scrolled": false
   },
   "outputs": [
    {
     "name": "stdout",
     "output_type": "stream",
     "text": [
      "Sigma = 120\n",
      "===============================================\n",
      "The number of samples: 10,   H_0,   n required\n",
      "-----------------------------------------------\n",
      "The confidence level: 0.800  True     128\n",
      "The confidence level: 0.900  True     210\n",
      "The confidence level: 0.950  True     299\n",
      "The confidence level: 0.990  True     515\n",
      "The confidence level: 0.999  True     841\n",
      "\n",
      "\n",
      "The number of samples: 100,   H_0,   n required\n",
      "-----------------------------------------------\n",
      "The confidence level: 0.800  True     189\n",
      "The confidence level: 0.900  True     311\n",
      "The confidence level: 0.950  True     442\n",
      "The confidence level: 0.990  True     763\n",
      "The confidence level: 0.999  True     1244\n",
      "\n",
      "\n",
      "The number of samples: 1000,   H_0,   n required\n",
      "-----------------------------------------------\n",
      "The confidence level: 0.800  True     7816\n",
      "The confidence level: 0.900  True     12875\n",
      "The confidence level: 0.950  True     18281\n",
      "The confidence level: 0.990  True     31574\n",
      "The confidence level: 0.999  True     51525\n",
      "\n",
      "\n",
      "==============================================\n",
      "\n",
      "Sigma = 240\n",
      "===============================================\n",
      "The number of samples: 10,   H_0,   n required\n",
      "-----------------------------------------------\n",
      "The confidence level: 0.800  True     13\n",
      "The confidence level: 0.900  True     21\n",
      "The confidence level: 0.950  True     30\n",
      "The confidence level: 0.990  True     51\n",
      "The confidence level: 0.999  True     83\n",
      "\n",
      "\n",
      "The number of samples: 100,   H_0,   n required\n",
      "-----------------------------------------------\n",
      "The confidence level: 0.800  True     104\n",
      "The confidence level: 0.900  True     171\n",
      "The confidence level: 0.950  True     242\n",
      "The confidence level: 0.990  True     418\n",
      "The confidence level: 0.999  True     683\n",
      "\n",
      "\n",
      "The number of samples: 1000,   H_0,   n required\n",
      "-----------------------------------------------\n",
      "The confidence level: 0.800  True     26230\n",
      "The confidence level: 0.900  True     43210\n",
      "The confidence level: 0.950  True     61351\n",
      "The confidence level: 0.990  True     105964\n",
      "The confidence level: 0.999  True     172924\n",
      "\n",
      "\n",
      "==============================================\n",
      "\n"
     ]
    }
   ],
   "source": [
    "C = [0.8, 0.9, 0.95, 0.99, 0.999]\n",
    "N = [10, 100, 1000]\n",
    "S = [120, 240]\n",
    "mean2 = 1600 # true mean ...true, true mean. hint: cloud atlys\n",
    "\n",
    "'''\n",
    "    DO EVERYTHING AT ONCE BECAUSE THERE ARE SO MANY ASSIGNMENTS \n",
    "    Loop runs through parameters listed above utilizing functions generated. \n",
    "'''\n",
    "\n",
    "for s in S:\n",
    "    print \"Sigma = %d\" %s\n",
    "    print \"===============================================\"\n",
    "    for n in N:\n",
    "        x = gen_grv(mean2, s, n) # generate n random variables\n",
    "        print \"The number of samples: %d,   H_0,   n required\" %n \n",
    "        print \"-----------------------------------------------\"\n",
    "        for c in C: \n",
    "             print \"The confidence level: %.3f  %s     %d\" %(c, check_significance(mean(x), mean2, s, n, c), \\\n",
    "                                                         determine_significance(mean(x), mean2, s, c))\n",
    "        print \"\\n\"\n",
    "    print \"==============================================\\n\""
   ]
  },
  {
   "cell_type": "markdown",
   "metadata": {},
   "source": [
    "### Task 5 \n",
    "This task is best solved with some math and a litte bit of funcccctions. Starting with the same system of equations derived for the generation of check_significance, \n",
    "\n",
    "$$ \\mu_x \\ge \\bar{X} - z_\\alpha\\frac{\\sigma_X}{\\sqrt{n}} $$\n",
    "\n",
    "$$ \\mu_x \\le \\bar{X} + z_\\alpha\\frac{\\sigma_X}{\\sqrt{n}}, $$\n",
    "\n",
    "and isolated for $\\sigma_X$ yields again an identical expression, \n",
    "\n",
    "$$\\sqrt{n}\\frac{\\mu_X - \\bar{X}}{z_\\alpha} \\le \\sigma_{X}.$$ \n",
    "\n",
    "Boom! An expression for $\\sigma_X$ which illustrates the required value given the $n$, $\\mu_x$ and $\\bar{X}$. Functionizing, combining with the ridiculus for-loop above and one questionable table layout follows. \n"
   ]
  },
  {
   "cell_type": "code",
   "execution_count": 7,
   "metadata": {
    "collapsed": false
   },
   "outputs": [
    {
     "name": "stdout",
     "output_type": "stream",
     "text": [
      "Sigma = 120\n",
      "===============================================\n",
      "The number of samples: 10,  H_0,  n required,  sigma required\n",
      "----------------------------------------------------------------\n",
      "The confidence level: 0.800,  True,  38, 61.810\n",
      "The confidence level: 0.900,  True,  63, 48.158\n",
      "The confidence level: 0.950,  True,  89, 40.416\n",
      "The confidence level: 0.990,  True,  153, 30.752\n",
      "The confidence level: 0.999,  True,  249, 24.073\n",
      "\n",
      "\n",
      "The number of samples: 100,  H_0,  n required,  sigma required\n",
      "----------------------------------------------------------------\n",
      "The confidence level: 0.800,  True,  214, 82.035\n",
      "The confidence level: 0.900,  True,  353, 63.915\n",
      "The confidence level: 0.950,  True,  501, 53.640\n",
      "The confidence level: 0.990,  True,  865, 40.815\n",
      "The confidence level: 0.999,  True,  1411, 31.950\n",
      "\n",
      "\n",
      "The number of samples: 1000,  H_0,  n required,  sigma required\n",
      "----------------------------------------------------------------\n",
      "The confidence level: 0.800,  True,  81234, 13.314\n",
      "The confidence level: 0.900,  True,  133819, 10.373\n",
      "The confidence level: 0.950,  True,  190002, 8.706\n",
      "The confidence level: 0.990,  True,  328168, 6.624\n",
      "The confidence level: 0.999,  True,  535540, 5.185\n",
      "\n",
      "\n",
      "==============================================\n",
      "\n",
      "Sigma = 240\n",
      "===============================================\n",
      "The number of samples: 10,  H_0,  n required,  sigma required\n",
      "----------------------------------------------------------------\n",
      "The confidence level: 0.800,  True,  180, 56.678\n",
      "The confidence level: 0.900,  True,  296, 44.159\n",
      "The confidence level: 0.950,  True,  420, 37.060\n",
      "The confidence level: 0.990,  True,  725, 28.199\n",
      "The confidence level: 0.999,  True,  1183, 22.074\n",
      "\n",
      "\n",
      "The number of samples: 100,  H_0,  n required,  sigma required\n",
      "----------------------------------------------------------------\n",
      "The confidence level: 0.800,  True,  181, 178.602\n",
      "The confidence level: 0.900,  True,  298, 139.154\n",
      "The confidence level: 0.950,  True,  423, 116.782\n",
      "The confidence level: 0.990,  True,  730, 88.860\n",
      "The confidence level: 0.999,  True,  1191, 69.560\n",
      "\n",
      "\n",
      "The number of samples: 1000,  H_0,  n required,  sigma required\n",
      "----------------------------------------------------------------\n",
      "The confidence level: 0.800,  True,  4882, 108.625\n",
      "The confidence level: 0.900,  True,  8042, 84.633\n",
      "The confidence level: 0.950,  True,  11418, 71.026\n",
      "The confidence level: 0.990,  True,  19721, 54.044\n",
      "The confidence level: 0.999,  True,  32183, 42.306\n",
      "\n",
      "\n",
      "==============================================\n",
      "\n"
     ]
    }
   ],
   "source": [
    "def find_sigma(mean1, mean2, n, confidence):\n",
    "    '''\n",
    "        find_sigma \n",
    "        ==========\n",
    "        Determines the std. dev required for $H_0$ to fail. \n",
    "        \n",
    "        mean1: tested mean \n",
    "        mean2: distribution mena \n",
    "        n: # of samples \n",
    "        confidence: the confidence level (WHATEVER THAT MEANS)\n",
    "    '''\n",
    "    a = 1. - confidence\n",
    "    z_a = norm.ppf(1. - a/2)\n",
    "    sigma = sqrt(n)*(mean2 - mean1)/z_a\n",
    "    return abs(sigma)\n",
    "\n",
    "C = [0.8, 0.9, 0.95, 0.99, 0.999]\n",
    "N = [10, 100, 1000]\n",
    "mean2 = 1600 # true mean ...true, true mean. hint: cloud atlys\n",
    "\n",
    "'''\n",
    "    DO EVERYTHING AT ONCE BECAUSE THERE ARE SO MANY ASSIGNMENTS \n",
    "    Loop runs through parameters listed above utilizing functions generated. \n",
    "'''\n",
    "for s in S:\n",
    "    print \"Sigma = %d\" %s\n",
    "    print \"===============================================\"\n",
    "    for n in N:\n",
    "        x = gen_grv(mean2, s, n) # generate n random variables\n",
    "        print \"The number of samples: %d,  H_0,  n required,  sigma required\" %n \n",
    "        print \"----------------------------------------------------------------\"\n",
    "        for c in C: \n",
    "             print \"The confidence level: %.3f,  %s,  %d, %.3f\" %(c, check_significance(mean(x), mean2, s, n, c), \\\n",
    "                    determine_significance(mean(x), mean2, s, c), find_sigma(mean(x), mean2, n, c))\n",
    "        print \"\\n\"\n",
    "    print \"==============================================\\n\"\n"
   ]
  },
  {
   "cell_type": "markdown",
   "metadata": {},
   "source": [
    "## Conclusions\n",
    "\n",
    "As the confidence level is increased, the confidence limits are widened, increasing the chance for the sample mean to be accepted. As a distribution's standard deviation increases, the confidence limits are also increased. The number of samples that compose the sample mean reduces the confidence limits. "
   ]
  }
 ],
 "metadata": {
  "kernelspec": {
   "display_name": "Python 2",
   "language": "python",
   "name": "python2"
  },
  "language_info": {
   "codemirror_mode": {
    "name": "ipython",
    "version": 2
   },
   "file_extension": ".py",
   "mimetype": "text/x-python",
   "name": "python",
   "nbconvert_exporter": "python",
   "pygments_lexer": "ipython2",
   "version": "2.7.9"
  }
 },
 "nbformat": 4,
 "nbformat_minor": 0
}
