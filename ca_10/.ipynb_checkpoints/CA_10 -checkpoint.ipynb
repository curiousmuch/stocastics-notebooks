{
 "cells": [
  {
   "cell_type": "markdown",
   "metadata": {},
   "source": [
    "#Computer Assignment (CA) No. 10: Hypothesis Testing\n",
    "\n",
    "## Problem Statement\n",
    "This assignment is designed to introduce you to hypothesis testing. You will essentially build a computer simulation of Example 9.9 in the textbook:\n",
    "####Example 9.9:\n",
    "The mean lifetime E[X] of the light bulbs produced by Lighting Systems Corporation is 1570 hours with a standard deviation of 120 hours. The president of the company claims that a new production process has led to an increase in the mean lifetimes of the light bulbs. If Joe tested 100 light bulbs made from the new production process and found that their mean lifetime is 1600 hours, test the hypothesis that E[X] is not equal to 1570 hours.\n",
    "####The tasks to be accomplished are:\n",
    "1. Create a function that generates n Gaussian distributed random variables:\n",
    "*X = gen_grv(mean, stdev, n)*\n",
    "2. Compute the mean of X, .\n",
    "3. Create a function that tests whether the difference between the true mean and the estimated mean are statistically significant: *status = check_significance(mean1, mean2, stdev, n, confidence)*\n",
    "4. Create a function that determines the value of N for the difference between two means to be statistically significant:\n",
    "*N = determine_significance(mean1, mean2, stdev, confidence)*\n",
    "\n",
    "####Now, put this all together by doing the following:\n",
    "1. Generate n random numbers with a mean of 1600 hours and a stdev of 120 hours for n = 10, 100, 1000.\n",
    "2. Using your tools above, determine if the difference in the mean is significant for confidence levels of 0.8, 0.9, 0.95, 0.99, 0.999.\n",
    "3. Determine the minimum value of n for which these differences would be statistically significant.\n",
    "4. Repeat no. 2 for a standard deviation of 240 hours.\n",
    "5. Find the maximum value of the variance for which the difference in the mean is significant for [n = 10, 100, 1000] and [confidence = 0.8, 0.9, 0.95, 0.99, 0.999].\n",
    "\n"
   ]
  },
  {
   "cell_type": "markdown",
   "metadata": {},
   "source": [
    "## Approach and Results \n",
    "\n",
    "###  A Quick Examination of Hypothesis Testing \n",
    "\n",
    "Because I definitly sucked at it on the test.\n",
    "#### Z-Score \n",
    "The $Z$ score, otherwise known as the standard score, is the \"number of standard deviations an observation or datum is above the mean.\" Thus can be defined as \n",
    "\n",
    "$$ z = \\frac{x-\\mu}{\\sigma} $$ \n",
    "where: $\\mu$ is the mean of the population $x$ is a sample, and $\\sigma$ is the standard deviation of the population. \n",
    "\n",
    "This can also be applied to a random variable $X$ or a sample mean $\\bar{X}$, such that \n",
    "$ \\bar{X} = \\frac{1}{n}\\sum_{i=1}^n X_i $. The $Z$ score of the sample mean is equal to \n",
    "\n",
    "$$ Z = \\frac{\\bar{X} - E[X]}{\\sigma_X/\\sqrt{n}}.$$ \n",
    "\n",
    "where $n$ is the number of samples in $\\bar{X}$, $E[X]$ is the mean of the distribution of $X$ which we will denote as $\\mu_X$, and the standard deviation of the sample mean is $\\sigma_{\\bar{X}} = \\sigma_X/\\sqrt{n}$. \n",
    "\n",
    "#### Confidence Limiits \n",
    "<img src=\"limits.png\">\n",
    "\n",
    "If $\\Phi()$ represents the CDF of the normal distribution and we are attempting to locate the limits the graph (taken from the class text) for a two tail test!\n",
    "\n",
    "$$ P(-z_\\alpha \\le Z \\le z_\\alpha) = 1 - \\alpha $$\n",
    "\n",
    "Subsitutn' the expression for $Z$ above for a sample mean, \n",
    "\n",
    "$$ \\Phi(z_\\alpha) = P(Z \\le z) = 1 - \\alpha/2 $$\n",
    "\n",
    "$$ z_\\alpha = \\Phi^{-1}(\\Phi(z)) = \\Phi^{-1}(1-\\alpha/2)$$\n",
    "\n",
    "$$ P(\\bar{X}-z_\\alpha\\frac{\\sigma}{\\sqrt{n}} \\le \\mu_x  \\le \\bar{X}+z_\\alpha\\frac{\\sigma}{\\sqrt{n}}) = 1- \\alpha $$\n",
    "\n",
    "thus, the endpoints of the confidence interval are $= \\bar{X} \\pm \\Phi^{-1}(1-\\alpha/2)\\frac{\\sigma_X}{\\sqrt{n}}$\n",
    "\n",
    "#### Process of Hypothesis Testing \n",
    "1. Determine $H_0$ and $H_1$ \n",
    "2. Specify $\\alpha$ the level of siginficance, which is the probability the sample means are different enough to reject $H_0$. \n",
    "3. Calculate the test value $z$, or the standard score of the test value based on the collected data. \n",
    "4. Find the confidence limits or $z_\\alpha$ given $\\alpha$ \n",
    "5. Reject or accept $H_0$ \n",
    "\n",
    "Thus, the rejection region is the region that lies outside the confidence interval; the confidence interval is the acceptance region. $H_0$ is accepted if $z$ lies in the acceptance region and it is rejected if $z$ lies in the rejection region.\n",
    "\n",
    "If $H_0$ is with within the confidence interval can be discovered in two ways. For the first method, the random variable under test is normalized and if it is within $\\pm z_\\alpha$, $H_0$ is accepted. For the second method, the confidence limits are found by \"de-normalizing\" $\\pm z_\\alpha$ and determining if the distribution's mean $\\mu_X$ is within the interval. \n",
    "\n",
    "\n",
    "### Functions: gen_grv, check_significance, and determine_significance\n",
    "\n",
    "#### gen_grv()"
   ]
  },
  {
   "cell_type": "code",
   "execution_count": 2,
   "metadata": {
    "collapsed": false
   },
   "outputs": [
    {
     "name": "stdout",
     "output_type": "stream",
     "text": [
      "Populating the interactive namespace from numpy and matplotlib\n"
     ]
    }
   ],
   "source": [
    "%pylab inline\n",
    "from scipy.stats import norm"
   ]
  },
  {
   "cell_type": "code",
   "execution_count": 3,
   "metadata": {
    "collapsed": false
   },
   "outputs": [
    {
     "data": {
      "text/plain": [
       "[<matplotlib.lines.Line2D at 0x7f1e97695d10>]"
      ]
     },
     "execution_count": 3,
     "metadata": {},
     "output_type": "execute_result"
    },
    {
     "data": {
      "image/png": "[encoded data removed]",
      "text/plain": [
       "<matplotlib.figure.Figure at 0x7f1e97832c50>"
      ]
     },
     "metadata": {},
     "output_type": "display_data"
    }
   ],
   "source": [
    "def gen_grv(mean, stdev, n):\n",
    "    '''\n",
    "        Generates n Gaussian random variables \n",
    "    '''\n",
    "    X = random.normal(mean, stdev, n) \n",
    "    return X \n",
    "\n",
    "# TESTING \n",
    "x = gen_grv(25, 1, 100000) \n",
    "h = histogram(x, bins=100)\n",
    "plot(h[1][1:], h[0]) "
   ]
  },
  {
   "cell_type": "markdown",
   "metadata": {},
   "source": [
    "Generating a vector $X$ consising of 100,000 random variables which are normally distributed with a mean of 25 and a $\\sigma$ 0f 1 produces the figure above which appears consistant with a normal distribution. \n",
    "\n",
    "#### check_significance\n",
    "\n",
    "The function utilizes the first method described above. The function returns true if $H_0$ is accepted and false if $H_0$ is rejected. The function is tested with the example provided in the problem statement. "
   ]
  },
  {
   "cell_type": "code",
   "execution_count": 4,
   "metadata": {
    "collapsed": false
   },
   "outputs": [
    {
     "name": "stdout",
     "output_type": "stream",
     "text": [
      "0.99 True\n",
      "0.95 False\n"
     ]
    }
   ],
   "source": [
    "def check_significance(mean1, mean2, stdev, n, confidence): \n",
    "    '''\n",
    "        Preforms hypothesis test\n",
    "        mean1 = the mean under test\n",
    "        returns true when h_0 is accepted\n",
    "                false when h_0 is rejected\n",
    "    '''\n",
    "    # normalize tested mean .... or z-score? \n",
    "    Z = (mean1 - mean2)/(stdev/sqrt(n))\n",
    "    \n",
    "    # calculated x values of normal distribution which form the limits of a confidence interval \n",
    "    a = 1.-confidence\n",
    "    z = norm.ppf(1 - a/2) \n",
    "    return  ((Z >= -z) and (Z <= z))\n",
    "\n",
    "## Testing \n",
    "mean1 = 1600\n",
    "mean2 = 1570\n",
    "stdev = 120\n",
    "n = 100\n",
    "confidence = [0.99, 0.95] \n",
    "for c in confidence:\n",
    "    print c, check_significance(mean1, mean2, stdev, n, c)     "
   ]
  },
  {
   "cell_type": "markdown",
   "metadata": {},
   "source": [
    "For the $0.99\\%$ confidence rating or a significance level $0.01$, the hypothesis $H_0: \\mu_x = \\mu_x$ is confirmed. For the $0.095\\%$ conidence rating or a significance level $0.05$, the hypothesis $\n",
    "H_0$ is rejected and $H_1$ stating the mean is significantly differenent is accepted.  \n",
    "\n",
    "#### determine_significance\n",
    "If the expression for a confidence interval is decomposed into a system of equations such that, \n",
    "\n",
    "$$ \\mu_x \\ge \\bar{X} - z_\\alpha\\frac{\\sigma_X}{\\sqrt{n}} $$\n",
    "\n",
    "$$ \\mu_x \\le \\bar{X} + z_\\alpha\\frac{\\sigma_X}{\\sqrt{n}}, $$\n",
    "\n",
    "and the equation are individually solved for $n$ they both return the same answer, \n",
    "\n",
    "$$ n \\le \\left( \\frac{z_\\alpha\\sigma_X}{\\mu_X  -\\bar{X}} \\right)^2 .$$\n",
    "\n",
    "If $n$ is not an integer, it of course will have to be rounded. The value of $n$ derived from the equation above will denote the maximum number of samples the test value will still satisfy the current confidence level. As the requirements for the function requested value of $n$ which concludes the difference between the two means to be significantly different $n$ is rounded up as can be seen in the function below.\n"
   ]
  },
  {
   "cell_type": "code",
   "execution_count": 5,
   "metadata": {
    "collapsed": false
   },
   "outputs": [
    {
     "name": "stdout",
     "output_type": "stream",
     "text": [
      "Confidence, New N, Sig Check, Old N, Sig Check\n",
      "0.99 107.0 True 100 True\n",
      "Confidence, New N, Sig Check, Old N, Sig Check\n",
      "0.95 62.0 True 100 False\n"
     ]
    }
   ],
   "source": [
    "def determine_significance(mean1, mean2, stdev, confidence): \n",
    "    ''' \n",
    "        Description: Calculated the minimum value of n which would fit mean1 within  the confidence interval for \n",
    "        normal distribution of mean2 and stdev\n",
    "    '''\n",
    "    # find the normalized confidence limits\n",
    "    a = 1 - confidence\n",
    "    z_u = norm.ppf(1. - a/2) # inverse normal distribution \n",
    "    z_l = -z_u\n",
    "    n = (z_u*stdev/(mean2 - mean1))**2\n",
    "    return ceil(n) \n",
    "\n",
    "# TESTING \n",
    "mean1 = 1600 \n",
    "mean2 = 1570 \n",
    "stdev = 120 \n",
    "n = 100 \n",
    "confidence = [0.99, 0.95]\n",
    "for c in confidence: \n",
    "    new_n = determine_significance(mean1, mean2, stdev, c)\n",
    "    print \"Confidence, New N, Sig Check, Old N, Sig Check\"\n",
    "    # Change new_n below\n",
    "    print c, new_n, check_significance(mean1, mean2, stdev, new_n-1, c), n, \\\n",
    "    check_significance(mean1, mean2, stdev, n, c)\n",
    "    \n",
    "    \n",
    "    "
   ]
  },
  {
   "cell_type": "markdown",
   "metadata": {},
   "source": [
    "The function is tested on the example in the problem statement again. If new_n is decremented after the commented line above, you can see the significance test will accept $H_0$."
   ]
  },
  {
   "cell_type": "markdown",
   "metadata": {},
   "source": [
    "### Tasks 1 to 4\n",
    "1. Generate n random numbers with a mean of 1600 hours and a stdev of 120 hours for n = 10, 100, 1000.\n",
    "2. Using your tools above, determine if the difference in the mean is significant for confidence levels of 0.8, 0.9, 0.95, 0.99, 0.999.\n",
    "3. Determine the minimum value of n for which these differences would be statistically significant.\n",
    "4. Repeat no. 2 for a standard deviation of 240 hours.\n",
    "5. Find the maximum value of the variance for which the difference in the mean is significant for [n = 10, 100, 1000] and [confidence = 0.8, 0.9, 0.95, 0.99, 0.999].\n",
    "\n",
    "\n"
   ]
  },
  {
   "cell_type": "code",
   "execution_count": 44,
   "metadata": {
    "collapsed": false,
    "scrolled": false
   },
   "outputs": [
    {
     "name": "stdout",
     "output_type": "stream",
     "text": [
      "Sigma = 120\n",
      "===============================================\n",
      "The number of samples: 10,   H_0,   n required\n",
      "-----------------------------------------------\n",
      "The confidence level: 0.800  False     8\n",
      "The confidence level: 0.900  True     12\n",
      "The confidence level: 0.950  True     17\n",
      "The confidence level: 0.990  True     30\n",
      "The confidence level: 0.999  True     48\n",
      "\n",
      "\n",
      "The number of samples: 100,   H_0,   n required\n",
      "-----------------------------------------------\n",
      "The confidence level: 0.800  False     91\n",
      "The confidence level: 0.900  True     149\n",
      "The confidence level: 0.950  True     212\n",
      "The confidence level: 0.990  True     366\n",
      "The confidence level: 0.999  True     597\n",
      "\n",
      "\n",
      "The number of samples: 1000,   H_0,   n required\n",
      "-----------------------------------------------\n",
      "The confidence level: 0.800  False     722\n",
      "The confidence level: 0.900  True     1189\n",
      "The confidence level: 0.950  True     1689\n",
      "The confidence level: 0.990  True     2916\n",
      "The confidence level: 0.999  True     4759\n",
      "\n",
      "\n",
      "==============================================\n",
      "\n",
      "Sigma = 240\n",
      "===============================================\n",
      "The number of samples: 10,   H_0,   n required\n",
      "-----------------------------------------------\n",
      "The confidence level: 0.800  True     46\n",
      "The confidence level: 0.900  True     75\n",
      "The confidence level: 0.950  True     106\n",
      "The confidence level: 0.990  True     183\n",
      "The confidence level: 0.999  True     298\n",
      "\n",
      "\n",
      "The number of samples: 100,   H_0,   n required\n",
      "-----------------------------------------------\n",
      "The confidence level: 0.800  True     31472\n",
      "The confidence level: 0.900  True     51845\n",
      "The confidence level: 0.950  True     73612\n",
      "The confidence level: 0.990  True     127141\n",
      "The confidence level: 0.999  True     207482\n",
      "\n",
      "\n",
      "The number of samples: 1000,   H_0,   n required\n",
      "-----------------------------------------------\n",
      "The confidence level: 0.800  True     1017319\n",
      "The confidence level: 0.900  True     1675866\n",
      "The confidence level: 0.950  True     2379473\n",
      "The confidence level: 0.990  True     4109782\n",
      "The confidence level: 0.999  True     6706802\n",
      "\n",
      "\n",
      "==============================================\n",
      "\n"
     ]
    }
   ],
   "source": [
    "C = [0.8, 0.9, 0.95, 0.99, 0.999]\n",
    "N = [10, 100, 1000]\n",
    "S = [120, 240]\n",
    "mean2 = 1600 # true mean ...true, true mean. hint: cloud atlys\n",
    "\n",
    "'''\n",
    "    DO EVERYTHING AT ONCE BECAUSE THERE IS SO MANY ASSIGNMENTS \n",
    "    Loop runs through parameters listed above utilizing functions generated. \n",
    "'''\n",
    "\n",
    "for s in S:\n",
    "    print \"Sigma = %d\" %s\n",
    "    print \"===============================================\"\n",
    "    for n in N:\n",
    "        x = gen_grv(mean2, s, n) # generate n random variables\n",
    "        print \"The number of samples: %d,   H_0,   n required\" %n \n",
    "        print \"-----------------------------------------------\"\n",
    "        for c in C: \n",
    "             print \"The confidence level: %.3f  %s     %d\" %(c, check_significance(mean(x), mean2, s, n, c), \\\n",
    "                                                         determine_significance(mean(x), mean2, s, c))\n",
    "        print \"\\n\"\n",
    "    print \"==============================================\\n\""
   ]
  },
  {
   "cell_type": "markdown",
   "metadata": {},
   "source": [
    "### Task 5 \n",
    "This task is best solved with some math and a litte bit of funcccctions. Starting with the same system of equations derived for the generation of check_significance, \n",
    "\n",
    "$$ \\mu_x \\ge \\bar{X} - z_\\alpha\\frac{\\sigma_X}{\\sqrt{n}} $$\n",
    "\n",
    "$$ \\mu_x \\le \\bar{X} + z_\\alpha\\frac{\\sigma_X}{\\sqrt{n}}, $$\n",
    "\n",
    "and isolated for $\\sigma_X$ yields again an identical expression, \n",
    "\n",
    "$$\\sqrt{n}\\frac{\\mu_X - \\bar{X}}{z_\\alpha} \\le \\sigma_{X}.$$ \n",
    "\n",
    "Boom! An expression for $\\sigma_X$ which illustrates the required value given the $n$, $\\mu_x$ and $\\bar{X}$. Functionizing, combining with the ridiculus for-loop above and one questionable table layout follows. \n"
   ]
  },
  {
   "cell_type": "code",
   "execution_count": 7,
   "metadata": {
    "collapsed": false
   },
   "outputs": [
    {
     "name": "stdout",
     "output_type": "stream",
     "text": [
      "Sigma = 120\n",
      "===============================================\n",
      "The number of samples: 10,  H_0,  n required,  sigma required\n",
      "----------------------------------------------------------------\n",
      "The confidence level: 0.800,  True,  300, 21.919\n",
      "The confidence level: 0.900,  True,  494, 17.078\n",
      "The confidence level: 0.950,  True,  702, 14.332\n",
      "The confidence level: 0.990,  True,  1211, 10.905\n",
      "The confidence level: 0.999,  True,  1976, 8.537\n",
      "\n",
      "\n",
      "The number of samples: 100,  H_0,  n required,  sigma required\n",
      "----------------------------------------------------------------\n",
      "The confidence level: 0.800,  True,  669, 46.395\n",
      "The confidence level: 0.900,  True,  1103, 36.148\n",
      "The confidence level: 0.950,  True,  1565, 30.336\n",
      "The confidence level: 0.990,  True,  2703, 23.083\n",
      "The confidence level: 0.999,  True,  4411, 18.069\n",
      "\n",
      "\n",
      "The number of samples: 1000,  H_0,  n required,  sigma required\n",
      "----------------------------------------------------------------\n",
      "The confidence level: 0.800,  True,  4096, 59.299\n",
      "The confidence level: 0.900,  True,  6747, 46.202\n",
      "The confidence level: 0.950,  True,  9579, 38.774\n",
      "The confidence level: 0.990,  True,  16544, 29.503\n",
      "The confidence level: 0.999,  True,  26998, 23.095\n",
      "\n",
      "\n",
      "==============================================\n",
      "\n",
      "Sigma = 240\n",
      "===============================================\n",
      "The number of samples: 10,  H_0,  n required,  sigma required\n",
      "----------------------------------------------------------------\n",
      "The confidence level: 0.800,  True,  37, 125.897\n",
      "The confidence level: 0.900,  True,  60, 98.090\n",
      "The confidence level: 0.950,  True,  85, 82.320\n",
      "The confidence level: 0.990,  True,  147, 62.637\n",
      "The confidence level: 0.999,  True,  240, 49.033\n",
      "\n",
      "\n",
      "The number of samples: 100,  H_0,  n required,  sigma required\n",
      "----------------------------------------------------------------\n",
      "The confidence level: 0.800,  True,  801, 84.822\n",
      "The confidence level: 0.900,  True,  1319, 66.087\n",
      "The confidence level: 0.950,  True,  1873, 55.462\n",
      "The confidence level: 0.990,  True,  3235, 42.202\n",
      "The confidence level: 0.999,  True,  5278, 33.035\n",
      "\n",
      "\n",
      "The number of samples: 1000,  H_0,  n required,  sigma required\n",
      "----------------------------------------------------------------\n",
      "The confidence level: 0.800,  True,  1760, 180.921\n",
      "The confidence level: 0.900,  True,  2899, 140.961\n",
      "The confidence level: 0.950,  True,  4116, 118.298\n",
      "The confidence level: 0.990,  True,  7109, 90.013\n",
      "The confidence level: 0.999,  True,  11602, 70.463\n",
      "\n",
      "\n",
      "==============================================\n",
      "\n"
     ]
    }
   ],
   "source": [
    "def find_sigma(mean1, mean2, n, confidence):\n",
    "    '''\n",
    "        find_sigma \n",
    "        ==========\n",
    "        Determines the std. dev required for $H_0$ to fail. \n",
    "        \n",
    "        mean1: tested mean \n",
    "        mean2: distribution mena \n",
    "        n: # of samples \n",
    "        confidence: the confidence level (WHATEVER THAT MEANS)\n",
    "    '''\n",
    "    a = 1. - confidence\n",
    "    z_a = norm.ppf(1. - a/2)\n",
    "    sigma = sqrt(n)*(mean2 - mean1)/z_a\n",
    "    return abs(sigma)\n",
    "\n",
    "C = [0.8, 0.9, 0.95, 0.99, 0.999]\n",
    "N = [10, 100, 1000]\n",
    "mean2 = 1600 # true mean ...true, true mean. hint: cloud atlys\n",
    "\n",
    "'''\n",
    "    DO EVERYTHING AT ONCE BECAUSE THERE IS SO MANY ASSIGNMENTS \n",
    "    Loop runs through parameters listed above utilizing functions generated. \n",
    "'''\n",
    "for s in S:\n",
    "    print \"Sigma = %d\" %s\n",
    "    print \"===============================================\"\n",
    "    for n in N:\n",
    "        x = gen_grv(mean2, s, n) # generate n random variables\n",
    "        print \"The number of samples: %d,  H_0,  n required,  sigma required\" %n \n",
    "        print \"----------------------------------------------------------------\"\n",
    "        for c in C: \n",
    "             print \"The confidence level: %.3f,  %s,  %d, %.3f\" %(c, check_significance(mean(x), mean2, s, n, c), \\\n",
    "                    determine_significance(mean(x), mean2, s, c), find_sigma(mean(x), mean2, n, c))\n",
    "        print \"\\n\"\n",
    "    print \"==============================================\\n\"\n"
   ]
  },
  {
   "cell_type": "markdown",
   "metadata": {},
   "source": [
    "## Conclusions\n",
    "\n",
    " "
   ]
  }
 ],
 "metadata": {
  "kernelspec": {
   "display_name": "Python 2",
   "language": "python",
   "name": "python2"
  },
  "language_info": {
   "codemirror_mode": {
    "name": "ipython",
    "version": 2
   },
   "file_extension": ".py",
   "mimetype": "text/x-python",
   "name": "python",
   "nbconvert_exporter": "python",
   "pygments_lexer": "ipython2",
   "version": "2.7.9"
  }
 },
 "nbformat": 4,
 "nbformat_minor": 0
}
