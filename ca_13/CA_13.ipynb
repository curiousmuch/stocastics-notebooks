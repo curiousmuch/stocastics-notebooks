{
 "cells": [
  {
   "cell_type": "markdown",
   "metadata": {},
   "source": [
    "# Computer Assignment (CA) No. 13: Maximum Likelihood Decoding\n",
    "\n",
    "In this assignment, we will build a simulation of a pattern recognition system that classifies data using a simple maximum likelihood classifier. The process we will follow is this:\n",
    "\n",
    "1. Generate two classes of data using multivariate Gaussian distributions.\n",
    "2. Transform the data using principal components analysis.\n",
    "3. Classify the data using a maximum likelihood decoder.\n",
    "4. Compute the corresponding error rate.\n",
    "\n",
    "We will work in two dimensions so that you can check your results with the pattern recognition applet. We will assume each class is equally likely to keep things simple.\n",
    "\n",
    "1) \tWrite a function that generates N vectors of dimension two. The inputs to this function are a mean vector, a covariance matrix, and the number of points, N. The output, X, is an Nx2 matrix:\n",
    "\n",
    "$$X = get\\_grvs(\\mu, C, N)$$\n",
    "\n",
    "Generate two classes of data,  $\\omega_1$ and $\\omega_2$, with the following parameters:\n",
    "\n",
    "\n",
    "\\begin{equation}\n",
    "\n",
    "\\end{equation}\n",
    "\n",
    "Plot a scatter plot of the data for N = 10,000 and 2 = 1.0. Explain why your plot makes sense."
   ]
  },
  {
   "cell_type": "code",
   "execution_count": 1,
   "metadata": {
    "collapsed": false
   },
   "outputs": [
    {
     "name": "stdout",
     "output_type": "stream",
     "text": [
      "Populating the interactive namespace from numpy and matplotlib\n"
     ]
    }
   ],
   "source": [
    "%pylab inline\n",
    "\n",
    "def get_grvs(mu, C, N): \n",
    "    "
   ]
  }
 ],
 "metadata": {
  "kernelspec": {
   "display_name": "Python 2",
   "language": "python",
   "name": "python2"
  },
  "language_info": {
   "codemirror_mode": {
    "name": "ipython",
    "version": 2
   },
   "file_extension": ".py",
   "mimetype": "text/x-python",
   "name": "python",
   "nbconvert_exporter": "python",
   "pygments_lexer": "ipython2",
   "version": "2.7.9"
  }
 },
 "nbformat": 4,
 "nbformat_minor": 0
}
